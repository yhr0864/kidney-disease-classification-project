{
 "cells": [
  {
   "cell_type": "code",
   "execution_count": 1,
   "metadata": {},
   "outputs": [
    {
     "data": {
      "text/plain": [
       "'c:\\\\Users\\\\15600\\\\Desktop\\\\PY\\\\kidney-disease-classification-project'"
      ]
     },
     "execution_count": 1,
     "metadata": {},
     "output_type": "execute_result"
    }
   ],
   "source": [
    "import os\n",
    "os.chdir(\"../\") # to the prev. dir\n",
    "%pwd"
   ]
  },
  {
   "cell_type": "code",
   "execution_count": 3,
   "metadata": {},
   "outputs": [],
   "source": [
    "### DO NOT SHARE TO OTHERS ###\n",
    "### DO NOT SHARE TO OTHERS ###\n",
    "### DO NOT SHARE TO OTHERS ###\n",
    "\n",
    "os.environ[\"MLFLOW_TRACKING_URI\"]=\"https://dagshub.com/yhr0864/kidney-disease-classification-project.mlflow\"\n",
    "os.environ[\"MLFLOW_TRACKING_USERNAME\"]=\"yhr0864\"\n",
    "os.environ[\"MLFLOW_TRACKING_PASSWORD\"]=\"d9d7c85432b94cdcba7ac783932b5090561e756d\""
   ]
  },
  {
   "cell_type": "code",
   "execution_count": null,
   "metadata": {},
   "outputs": [],
   "source": [
    "MLFLOW_TRACKING_URI=https://dagshub.com/yhr0864/kidney-disease-classification-project.mlflow \\\n",
    "MLFLOW_TRACKING_USERNAME=yhr0864 \\\n",
    "MLFLOW_TRACKING_PASSWORD=d9d7c85432b94cdcba7ac783932b5090561e756d \\\n",
    "python script.py"
   ]
  },
  {
   "cell_type": "code",
   "execution_count": 4,
   "metadata": {},
   "outputs": [],
   "source": [
    "import torch\n",
    "\n",
    "model = torch.load(\"artifacts/model_training/model.pt\")"
   ]
  },
  {
   "cell_type": "markdown",
   "metadata": {},
   "source": [
    "## Entity"
   ]
  },
  {
   "cell_type": "code",
   "execution_count": 5,
   "metadata": {},
   "outputs": [],
   "source": [
    "from dataclasses import dataclass\n",
    "from pathlib import Path\n",
    "\n",
    "\n",
    "@dataclass(frozen=True)\n",
    "class TestingConfig:\n",
    "    model_path: Path\n",
    "    testing_data: Path\n",
    "    all_params: dict\n",
    "    mlflow_uri: str"
   ]
  },
  {
   "cell_type": "markdown",
   "metadata": {},
   "source": [
    "## Configuration"
   ]
  },
  {
   "cell_type": "code",
   "execution_count": 6,
   "metadata": {},
   "outputs": [],
   "source": [
    "from src.KDClassifier.constants import *\n",
    "from src.KDClassifier.utils.common import read_yaml, create_directories"
   ]
  },
  {
   "cell_type": "code",
   "execution_count": 7,
   "metadata": {},
   "outputs": [],
   "source": [
    "class ConfigurationManager:\n",
    "    '''\n",
    "    read the config.yaml\n",
    "    return base_model_config\n",
    "    '''\n",
    "    def __init__(self, config_filepath=CONFIG_FILE_PATH,\n",
    "                       params_filepath=PARAMS_FILE_PATH):\n",
    "        self.config = read_yaml(config_filepath)\n",
    "        self.params = read_yaml(params_filepath)\n",
    "\n",
    "        create_directories([self.config.artifacts_root])\n",
    "    \n",
    "    def get_testing_config(self) -> TestingConfig:\n",
    "        testing_data = os.path.join(self.config.data_ingestion.unzip_dir, \"test\")\n",
    "        test_config = TestingConfig(\n",
    "            model_path=Path(self.config.model_training.trained_model_path),\n",
    "            testing_data=Path(testing_data),\n",
    "            all_params=self.params,\n",
    "            mlflow_uri=str(self.config.model_testing.mlflow_uri)\n",
    "\n",
    "        )\n",
    "        return test_config"
   ]
  },
  {
   "cell_type": "markdown",
   "metadata": {},
   "source": [
    "## Component"
   ]
  },
  {
   "cell_type": "code",
   "execution_count": 11,
   "metadata": {},
   "outputs": [],
   "source": [
    "import mlflow\n",
    "from urllib.parse import urlparse\n",
    "import tqdm\n",
    "from torch.utils.data import DataLoader\n",
    "from transformers import ViTFeatureExtractor\n",
    "\n",
    "from src.KDClassifier.utils.dataloader import KidneyDataset\n",
    "from src.KDClassifier import logger\n",
    "from sklearn.metrics import confusion_matrix, classification_report, accuracy_score, precision_recall_fscore_support\n",
    "\n",
    "class Testing:\n",
    "    def __init__(self, config: TestingConfig):\n",
    "        self.config = config\n",
    "    \n",
    "    def get_testing_model(self):\n",
    "        self.model = torch.load(self.config.model_path)\n",
    "\n",
    "    def test_generator(self):\n",
    "        feature_extractor = ViTFeatureExtractor.from_pretrained('google/vit-base-patch16-224-in21k')\n",
    "\n",
    "        test_dataset = KidneyDataset(self.config.testing_data, feature_extractor)   \n",
    "        self.test_loader = DataLoader(test_dataset, batch_size=1, shuffle=False)\n",
    "\n",
    "    def get_testing(self):\n",
    "        self.model.eval()\n",
    "\n",
    "        device = torch.device(\"cuda\" if torch.cuda.is_available() else \"cpu\")\n",
    "        self.model.to(device)\n",
    "\n",
    "        all_preds = []\n",
    "        all_labels = []\n",
    "        with torch.no_grad():\n",
    "            for (inputs, labels) in tqdm.tqdm(self.test_loader,\n",
    "                                              total=len(self.test_loader)):\n",
    "                inputs, labels = inputs.to(device), labels.to(device)\n",
    "                outputs = self.model(inputs)\n",
    "                _, preds = torch.max(outputs, 1)\n",
    "                all_preds.extend(preds.cpu().numpy())\n",
    "                all_labels.extend(labels.cpu().numpy())\n",
    "\n",
    "        self.accuracy = accuracy_score(all_labels, all_preds)\n",
    "        self.precision, self.recall, self.f1, _ = precision_recall_fscore_support(all_labels, all_preds, average='macro')\n",
    "        logger.info(f\"Accuracy: {self.accuracy}\\nPrecision: {self.precision}\\nRecall: {self.recall}\\nF1 Score: {self.f1}\")\n",
    "        logger.info(classification_report(all_labels, all_preds, target_names=['Normal', 'Tumor']))\n",
    "\n",
    "        # Confusion Matrix\n",
    "        conf_matrix = confusion_matrix(all_labels, all_preds)\n",
    "        logger.info(f\"conf_matrix:\\n {conf_matrix}\")\n",
    "    \n",
    "    def log_into_mlflow(self):\n",
    "        mlflow.set_registry_uri(self.config.mlflow_uri)\n",
    "        tracking_url_type_store = urlparse(mlflow.get_tracking_uri()).scheme\n",
    "\n",
    "        with mlflow.start_run():\n",
    "            mlflow.log_params(self.config.all_params)\n",
    "            mlflow.log_metrics({\"Accuracy\": self.accuracy,\n",
    "                                \"Precision\": self.precision,\n",
    "                                \"Recall\": self.recall,\n",
    "                                \"F1\": self.f1\n",
    "\n",
    "            })\n",
    "            # model registry does not work with file store\n",
    "            if tracking_url_type_store != \"file\":\n",
    "                mlflow.pytorch.log_model(self.model, \"model\", registered_model_name=\"ViT\")\n",
    "            else:\n",
    "                mlflow.pytorch.log_model(self.model, \"model\")\n",
    "            \n",
    "\n",
    "    \n"
   ]
  },
  {
   "cell_type": "markdown",
   "metadata": {},
   "source": [
    "## Pipeline"
   ]
  },
  {
   "cell_type": "code",
   "execution_count": 14,
   "metadata": {},
   "outputs": [
    {
     "name": "stdout",
     "output_type": "stream",
     "text": [
      "[2024-02-12 16:05:06,613: INFO: common: yaml file: config\\config.yaml loaded successfully]\n",
      "[2024-02-12 16:05:06,615: INFO: common: yaml file: params.yaml loaded successfully]\n",
      "[2024-02-12 16:05:06,616: INFO: common: created directory at: artifacts]\n"
     ]
    },
    {
     "name": "stderr",
     "output_type": "stream",
     "text": [
      "d:\\anaconda3\\Lib\\site-packages\\transformers\\models\\vit\\feature_extraction_vit.py:28: FutureWarning: The class ViTFeatureExtractor is deprecated and will be removed in version 5 of Transformers. Please use ViTImageProcessor instead.\n",
      "  warnings.warn(\n",
      "100%|██████████| 200/200 [00:12<00:00, 16.10it/s]"
     ]
    },
    {
     "name": "stdout",
     "output_type": "stream",
     "text": [
      "[2024-02-12 16:05:19,769: INFO: 2221389218: Accuracy: 0.655\n",
      "Precision: 0.7958579881656804\n",
      "Recall: 0.655\n",
      "F1 Score: 0.6083884332699566]\n",
      "[2024-02-12 16:05:19,769: INFO: 2221389218:               precision    recall  f1-score   support\n",
      "\n",
      "      Normal       1.00      0.31      0.47       100\n",
      "       Tumor       0.59      1.00      0.74       100\n",
      "\n",
      "    accuracy                           0.66       200\n",
      "   macro avg       0.80      0.66      0.61       200\n",
      "weighted avg       0.80      0.66      0.61       200\n",
      "]\n",
      "[2024-02-12 16:05:19,769: INFO: 2221389218: conf_matrix:\n",
      " [[ 31  69]\n",
      " [  0 100]]]\n"
     ]
    },
    {
     "name": "stderr",
     "output_type": "stream",
     "text": [
      "\n",
      "Successfully registered model 'ViT'.\n",
      "2024/02/12 16:07:12 INFO mlflow.tracking._model_registry.client: Waiting up to 300 seconds for model version to finish creation.                     Model name: ViT, version 1\n",
      "Created version '1' of model 'ViT'.\n"
     ]
    }
   ],
   "source": [
    "try:\n",
    "    config = ConfigurationManager()\n",
    "    test_config = config.get_testing_config()\n",
    "    testing = Testing(test_config)\n",
    "    testing.get_testing_model()\n",
    "    testing.test_generator()\n",
    "    testing.get_testing()\n",
    "    testing.log_into_mlflow()\n",
    "\n",
    "except Exception as e:\n",
    "    raise e"
   ]
  },
  {
   "cell_type": "code",
   "execution_count": null,
   "metadata": {},
   "outputs": [],
   "source": []
  }
 ],
 "metadata": {
  "kernelspec": {
   "display_name": "kidney_env",
   "language": "python",
   "name": "python3"
  },
  "language_info": {
   "codemirror_mode": {
    "name": "ipython",
    "version": 3
   },
   "file_extension": ".py",
   "mimetype": "text/x-python",
   "name": "python",
   "nbconvert_exporter": "python",
   "pygments_lexer": "ipython3",
   "version": "3.11.4"
  }
 },
 "nbformat": 4,
 "nbformat_minor": 2
}
