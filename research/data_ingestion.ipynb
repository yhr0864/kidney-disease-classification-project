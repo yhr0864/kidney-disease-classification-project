{
 "cells": [
  {
   "cell_type": "code",
   "execution_count": 2,
   "metadata": {},
   "outputs": [],
   "source": [
    "import os"
   ]
  },
  {
   "cell_type": "code",
   "execution_count": 3,
   "metadata": {},
   "outputs": [
    {
     "data": {
      "text/plain": [
       "'c:\\\\Users\\\\15600\\\\Desktop\\\\PY\\\\kidney-disease-classification-project\\\\research'"
      ]
     },
     "execution_count": 3,
     "metadata": {},
     "output_type": "execute_result"
    }
   ],
   "source": [
    "%pwd # current dir"
   ]
  },
  {
   "cell_type": "code",
   "execution_count": 4,
   "metadata": {},
   "outputs": [],
   "source": [
    "os.chdir(\"../\") # to the prev. dir"
   ]
  },
  {
   "cell_type": "code",
   "execution_count": 5,
   "metadata": {},
   "outputs": [
    {
     "data": {
      "text/plain": [
       "'c:\\\\Users\\\\15600\\\\Desktop\\\\PY\\\\kidney-disease-classification-project'"
      ]
     },
     "execution_count": 5,
     "metadata": {},
     "output_type": "execute_result"
    }
   ],
   "source": [
    "%pwd"
   ]
  },
  {
   "cell_type": "markdown",
   "metadata": {},
   "source": [
    "## Entity"
   ]
  },
  {
   "cell_type": "code",
   "execution_count": 6,
   "metadata": {},
   "outputs": [],
   "source": [
    "from dataclasses import dataclass\n",
    "from pathlib import Path\n",
    "\n",
    "@dataclass(frozen=True) # simplify the class defination （no need to write def __init__(self)）\n",
    "class DataIngestionConfig:\n",
    "    root_dir: Path\n",
    "    src_URL: str\n",
    "    local_data_file: Path\n",
    "    unzip_dir: Path"
   ]
  },
  {
   "cell_type": "markdown",
   "metadata": {},
   "source": [
    "## Configuration"
   ]
  },
  {
   "cell_type": "code",
   "execution_count": 7,
   "metadata": {},
   "outputs": [],
   "source": [
    "from src.KDClassifier.constants import *\n",
    "from src.KDClassifier.utils.common import read_yaml, create_directories\n"
   ]
  },
  {
   "cell_type": "code",
   "execution_count": 8,
   "metadata": {},
   "outputs": [],
   "source": [
    "class ConfigurationManager:\n",
    "    '''\n",
    "    read the config.yaml\n",
    "    return data_ingestion_config\n",
    "    '''\n",
    "    def __init__(self, config_filepath=CONFIG_FILE_PATH,\n",
    "                       params_filepath=PARAMS_FILE_PATH):\n",
    "        self.config = read_yaml(config_filepath)\n",
    "        self.params = read_yaml(params_filepath)\n",
    "\n",
    "        create_directories([self.config.artifacts_root])\n",
    "    \n",
    "    def get_data_ingestion_config(self) -> DataIngestionConfig:\n",
    "        config = self.config.data_ingestion\n",
    "        create_directories([config.root_dir])\n",
    "\n",
    "        data_ingestion_config = DataIngestionConfig(\n",
    "            root_dir=config.root_dir,\n",
    "            src_URL=config.src_URL,\n",
    "            local_data_file=config.local_data_file,\n",
    "            unzip_dir=config.unzip_dir\n",
    "        )\n",
    "        return data_ingestion_config"
   ]
  },
  {
   "cell_type": "code",
   "execution_count": 9,
   "metadata": {},
   "outputs": [
    {
     "name": "stdout",
     "output_type": "stream",
     "text": [
      "[2024-02-08 10:13:26,350: INFO: common: yaml file: config\\config.yaml loaded successfully]\n",
      "[2024-02-08 10:13:26,352: INFO: common: yaml file: params.yaml loaded successfully]\n",
      "[2024-02-08 10:13:26,353: INFO: common: created directory at: artifacts]\n"
     ]
    }
   ],
   "source": [
    "data_config = ConfigurationManager()\n"
   ]
  },
  {
   "cell_type": "code",
   "execution_count": 10,
   "metadata": {},
   "outputs": [
    {
     "name": "stdout",
     "output_type": "stream",
     "text": [
      "[2024-02-08 10:13:26,363: INFO: common: created directory at: artifacts/data_ingestion]\n"
     ]
    }
   ],
   "source": [
    "srcURL = data_config.get_data_ingestion_config()\n"
   ]
  },
  {
   "cell_type": "code",
   "execution_count": 11,
   "metadata": {},
   "outputs": [
    {
     "data": {
      "text/plain": [
       "'https://drive.google.com/file/d/1jGFKjl11IOSnhUx-HJnOsIPwxJWl3q-G/view?usp=drive_link'"
      ]
     },
     "execution_count": 11,
     "metadata": {},
     "output_type": "execute_result"
    }
   ],
   "source": [
    "srcURL.src_URL"
   ]
  },
  {
   "cell_type": "markdown",
   "metadata": {},
   "source": [
    "## Components"
   ]
  },
  {
   "cell_type": "code",
   "execution_count": 12,
   "metadata": {},
   "outputs": [],
   "source": [
    "import os\n",
    "import zipfile\n",
    "import gdown\n",
    "from src.KDClassifier import logger\n",
    "from src.KDClassifier.utils.common import get_size\n"
   ]
  },
  {
   "cell_type": "code",
   "execution_count": 13,
   "metadata": {},
   "outputs": [],
   "source": [
    "class DataIngestion:\n",
    "    '''\n",
    "    download and extract data\n",
    "    '''\n",
    "    def __init__(self, config: DataIngestionConfig):\n",
    "        self.config = config\n",
    "    \n",
    "    def download_file(self) -> str:\n",
    "      try:\n",
    "          dataset_url = self.config.src_URL\n",
    "          zip_download_dir = self.config.local_data_file\n",
    "          os.makedirs(\"artifacts/data_ingestion\", exist_ok=True)\n",
    "          logger.info(f\"Downloading data from {dataset_url} into file {zip_download_dir}\")\n",
    "\n",
    "          file_id = dataset_url.split('/')[-2]\n",
    "          prefix = \"https://drive.google.com/uc?/export=download&id=\"\n",
    "          gdown.download(prefix+file_id, zip_download_dir)\n",
    "          logger.info(\"Download finished!\")\n",
    "      except Exception as e:\n",
    "          raise e\n",
    "    \n",
    "    def extract_zip_file(self):\n",
    "        '''\n",
    "        zip_file_path: str\n",
    "        extracts zip file into data dir\n",
    "        return None  \n",
    "        '''\n",
    "        unzip_path = self.config.unzip_dir\n",
    "        os.makedirs(unzip_path, exist_ok=True)\n",
    "        logger.info(\"extracting data\")\n",
    "        with zipfile.ZipFile(self.config.local_data_file, 'r') as zip_ref:\n",
    "            zip_ref.extractall(unzip_path)\n",
    "        logger.info(\"extract finished!\")"
   ]
  },
  {
   "cell_type": "code",
   "execution_count": 14,
   "metadata": {},
   "outputs": [
    {
     "name": "stdout",
     "output_type": "stream",
     "text": [
      "[2024-02-08 10:21:16,314: INFO: common: yaml file: config\\config.yaml loaded successfully]\n",
      "[2024-02-08 10:21:16,315: INFO: common: yaml file: params.yaml loaded successfully]\n",
      "[2024-02-08 10:21:16,316: INFO: common: created directory at: artifacts]\n",
      "[2024-02-08 10:21:16,317: INFO: common: created directory at: artifacts/data_ingestion]\n",
      "[2024-02-08 10:21:16,318: INFO: 2657407201: Downloading data from https://drive.google.com/file/d/1jGFKjl11IOSnhUx-HJnOsIPwxJWl3q-G/view?usp=drive_link into file artifacts/data_ingestion/data.zip]\n"
     ]
    },
    {
     "name": "stderr",
     "output_type": "stream",
     "text": [
      "Downloading...\n",
      "From (original): https://drive.google.com/uc?/export=download&id=1jGFKjl11IOSnhUx-HJnOsIPwxJWl3q-G\n",
      "From (redirected): https://drive.google.com/uc?%2Fexport=download&id=1jGFKjl11IOSnhUx-HJnOsIPwxJWl3q-G&confirm=t&uuid=ef657715-57e0-47db-81ee-03626cd26298\n",
      "To: c:\\Users\\15600\\Desktop\\PY\\kidney-disease-classification-project\\artifacts\\data_ingestion\\data.zip\n",
      "100%|██████████| 941M/941M [01:16<00:00, 12.3MB/s] "
     ]
    },
    {
     "name": "stdout",
     "output_type": "stream",
     "text": [
      "[2024-02-08 10:22:33,896: INFO: 2657407201: Download finished!]\n"
     ]
    },
    {
     "name": "stderr",
     "output_type": "stream",
     "text": [
      "\n"
     ]
    }
   ],
   "source": [
    "try:\n",
    "    config = ConfigurationManager()\n",
    "    data_ingestion_config = config.get_data_ingestion_config()\n",
    "    data_ingestion = DataIngestion(config=data_ingestion_config)\n",
    "    data_ingestion.download_file()\n",
    "    data_ingestion.extract_zip_file()\n",
    "except Exception as e:\n",
    "    raise e\n"
   ]
  },
  {
   "cell_type": "code",
   "execution_count": null,
   "metadata": {},
   "outputs": [],
   "source": []
  }
 ],
 "metadata": {
  "kernelspec": {
   "display_name": "kidney_env",
   "language": "python",
   "name": "python3"
  },
  "language_info": {
   "codemirror_mode": {
    "name": "ipython",
    "version": 3
   },
   "file_extension": ".py",
   "mimetype": "text/x-python",
   "name": "python",
   "nbconvert_exporter": "python",
   "pygments_lexer": "ipython3",
   "version": "3.9.18"
  }
 },
 "nbformat": 4,
 "nbformat_minor": 2
}
