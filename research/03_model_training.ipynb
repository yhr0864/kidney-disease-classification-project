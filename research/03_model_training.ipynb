{
 "cells": [
  {
   "cell_type": "code",
   "execution_count": 1,
   "metadata": {},
   "outputs": [
    {
     "data": {
      "text/plain": [
       "'c:\\\\Users\\\\15600\\\\Desktop\\\\PY\\\\kidney-disease-classification-project'"
      ]
     },
     "execution_count": 1,
     "metadata": {},
     "output_type": "execute_result"
    }
   ],
   "source": [
    "import os\n",
    "os.chdir(\"../\") # to the prev. dir\n",
    "%pwd"
   ]
  },
  {
   "cell_type": "markdown",
   "metadata": {},
   "source": [
    "## Entity"
   ]
  },
  {
   "cell_type": "code",
   "execution_count": 2,
   "metadata": {},
   "outputs": [],
   "source": [
    "from dataclasses import dataclass\n",
    "from pathlib import Path\n",
    "\n",
    "\n",
    "@dataclass(frozen=True)\n",
    "class TrainingModelConfig:\n",
    "    root_dir: Path\n",
    "    prepare_base_model: Path\n",
    "    trained_model_path: Path\n",
    "    training_data: Path\n",
    "    params_batch_size: int\n",
    "    params_epochs: int\n",
    "    params_learning_rate: float"
   ]
  },
  {
   "cell_type": "markdown",
   "metadata": {},
   "source": [
    "## Configuration"
   ]
  },
  {
   "cell_type": "code",
   "execution_count": 3,
   "metadata": {},
   "outputs": [],
   "source": [
    "from src.KDClassifier.constants import *\n",
    "from src.KDClassifier.utils.common import read_yaml, create_directories"
   ]
  },
  {
   "cell_type": "code",
   "execution_count": 4,
   "metadata": {},
   "outputs": [],
   "source": [
    "class ConfigurationManager:\n",
    "    '''\n",
    "    read the config.yaml\n",
    "    return base_model_config\n",
    "    '''\n",
    "    def __init__(self, config_filepath=CONFIG_FILE_PATH,\n",
    "                       params_filepath=PARAMS_FILE_PATH):\n",
    "        self.config = read_yaml(config_filepath)\n",
    "        self.params = read_yaml(params_filepath)\n",
    "\n",
    "        create_directories([self.config.artifacts_root])\n",
    "    \n",
    "    def get_training_config(self) -> TrainingModelConfig:\n",
    "        prepare_base_model = self.config.prepare_base_model\n",
    "        model_training = self.config.model_training\n",
    "        training_data = os.path.join(self.config.data_ingestion.unzip_dir, \"kidneyCTscan\")\n",
    "        create_directories([model_training.root_dir])\n",
    "\n",
    "        training_config = TrainingModelConfig(\n",
    "            root_dir=Path(model_training.root_dir),\n",
    "            prepare_base_model=Path(prepare_base_model.base_model_path),\n",
    "            trained_model_path=Path(model_training.trained_model_path), # for saving\n",
    "            training_data=Path(training_data),\n",
    "            params_batch_size=self.params.BATCH_SIZE,\n",
    "            params_epochs=self.params.EPOCHS,\n",
    "            params_learning_rate=self.params.LEARNING_RATE\n",
    "\n",
    "        )\n",
    "        return training_config\n"
   ]
  },
  {
   "cell_type": "markdown",
   "metadata": {},
   "source": [
    "## Component"
   ]
  },
  {
   "cell_type": "code",
   "execution_count": 5,
   "metadata": {},
   "outputs": [],
   "source": [
    "import torch\n",
    "import torch.nn as nn\n",
    "import torch.optim as optim\n",
    "from torch.utils.data import DataLoader\n",
    "from transformers import ViTFeatureExtractor\n",
    "\n",
    "from src.KDClassifier import logger\n",
    "from src.KDClassifier.utils.dataloader import KidneyDataset"
   ]
  },
  {
   "cell_type": "code",
   "execution_count": 6,
   "metadata": {},
   "outputs": [],
   "source": [
    "class Training:\n",
    "    def __init__(self, config: TrainingModelConfig):\n",
    "        self.config = config\n",
    "\n",
    "    def get_training_model(self):\n",
    "        self.model = torch.load(self.config.prepare_base_model)\n",
    "    \n",
    "    def train_valid_generator(self):\n",
    "        feature_extractor = ViTFeatureExtractor.from_pretrained('google/vit-base-patch16-224-in21k')\n",
    "\n",
    "        dataset = KidneyDataset(self.config.training_data, feature_extractor)   \n",
    "\n",
    "        train_size = int(0.8 * len(dataset))\n",
    "        valid_size = len(dataset) - train_size\n",
    "        train_dataset, valid_dataset = torch.utils.data.random_split(dataset, [train_size, valid_size])\n",
    "\n",
    "        self.train_loader = DataLoader(train_dataset, batch_size=self.config.params_batch_size, shuffle=True)\n",
    "        self.valid_loader = DataLoader(valid_dataset, batch_size=self.config.params_batch_size, shuffle=False)\n",
    "\n",
    "    @staticmethod\n",
    "    def save_model(model, path):\n",
    "        torch.save(model, path)\n",
    "\n",
    "    def train(self):\n",
    "        device = torch.device(\"cuda\" if torch.cuda.is_available() else \"cpu\")\n",
    "        self.model.to(device)\n",
    "        logger.info(f\"training on {device}\")\n",
    "\n",
    "        criterion = nn.CrossEntropyLoss()\n",
    "        optimizer = optim.Adam(self.model.parameters(), lr=self.config.params_learning_rate)    \n",
    "\n",
    "        train_losses = []\n",
    "        train_accuracies = []\n",
    "        num_epochs = self.config.params_epochs\n",
    "\n",
    "        for epoch in range(num_epochs):\n",
    "            logger.info(f\"epoch {epoch}\")\n",
    "            self.model.train()\n",
    "            running_loss = 0.0\n",
    "            correct = 0\n",
    "            total = 0\n",
    "            for inputs, labels in self.train_loader:\n",
    "                inputs, labels = inputs.to(device), labels.to(device)\n",
    "                #logger.info(\"data loaded\")\n",
    "                optimizer.zero_grad()\n",
    "                outputs = self.model(inputs)\n",
    "                #logger.info(\"get output\")\n",
    "                loss = criterion(outputs, labels)\n",
    "                #logger.info(\"loss\")\n",
    "                loss.backward()\n",
    "                optimizer.step()\n",
    "                #logger.info(\"update\")\n",
    "                running_loss += loss.item()\n",
    "                _, predicted = torch.max(outputs.data, 1)\n",
    "                total += labels.size(0)\n",
    "                correct += (predicted == labels).sum().item()\n",
    "            logger.info(\"calculate epoch loss\")\n",
    "            epoch_loss = running_loss / len(self.train_loader)\n",
    "            epoch_acc = correct / total\n",
    "            train_losses.append(epoch_loss)\n",
    "            train_accuracies.append(epoch_acc)\n",
    "\n",
    "            logger.info(f'Epoch {epoch + 1}, Loss: {epoch_loss}, Accuracy: {epoch_acc}')\n",
    "\n",
    "            if epoch // 2:\n",
    "                self.save_model(self.model, self.config.trained_model_path)\n"
   ]
  },
  {
   "cell_type": "code",
   "execution_count": 7,
   "metadata": {},
   "outputs": [],
   "source": [
    "import torch\n",
    "device = torch.device(\"cuda\" if torch.cuda.is_available() else \"cpu\")"
   ]
  },
  {
   "cell_type": "code",
   "execution_count": 8,
   "metadata": {},
   "outputs": [
    {
     "data": {
      "text/plain": [
       "device(type='cuda')"
      ]
     },
     "execution_count": 8,
     "metadata": {},
     "output_type": "execute_result"
    }
   ],
   "source": [
    "\n",
    "device"
   ]
  },
  {
   "cell_type": "markdown",
   "metadata": {},
   "source": [
    "## Pipeline"
   ]
  },
  {
   "cell_type": "code",
   "execution_count": 9,
   "metadata": {},
   "outputs": [
    {
     "name": "stdout",
     "output_type": "stream",
     "text": [
      "[2024-02-10 17:37:57,260: INFO: common: yaml file: config\\config.yaml loaded successfully]\n",
      "[2024-02-10 17:37:57,261: INFO: common: yaml file: params.yaml loaded successfully]\n",
      "[2024-02-10 17:37:57,262: INFO: common: created directory at: artifacts]\n",
      "[2024-02-10 17:37:57,263: INFO: common: created directory at: artifacts/model_training]\n",
      "[2024-02-10 17:37:57,683: INFO: 4274925046: start training]\n",
      "[2024-02-10 17:37:57,819: INFO: 1256434790: training on cuda]\n",
      "[2024-02-10 17:37:57,834: INFO: 1256434790: epoch 0]\n"
     ]
    },
    {
     "name": "stderr",
     "output_type": "stream",
     "text": [
      "d:\\anaconda3\\Lib\\site-packages\\transformers\\models\\vit\\feature_extraction_vit.py:28: FutureWarning: The class ViTFeatureExtractor is deprecated and will be removed in version 5 of Transformers. Please use ViTImageProcessor instead.\n",
      "  warnings.warn(\n"
     ]
    },
    {
     "name": "stdout",
     "output_type": "stream",
     "text": [
      "[2024-02-10 17:38:07,529: INFO: 1256434790: calculate epoch loss]\n",
      "[2024-02-10 17:38:07,529: INFO: 1256434790: Epoch 1, Loss: 0.6476555716335064, Accuracy: 0.5952380952380952]\n",
      "[2024-02-10 17:38:07,529: INFO: 1256434790: epoch 1]\n",
      "[2024-02-10 17:38:14,696: INFO: 1256434790: calculate epoch loss]\n",
      "[2024-02-10 17:38:14,700: INFO: 1256434790: Epoch 2, Loss: 0.40632524829180466, Accuracy: 0.8392857142857143]\n"
     ]
    }
   ],
   "source": [
    "try:\n",
    "    config = ConfigurationManager()\n",
    "    training_config = config.get_training_config()\n",
    "    training = Training(training_config)\n",
    "    training.get_training_model()\n",
    "    training.train_valid_generator()\n",
    "    logger.info(\"start training\")\n",
    "    training.train()\n",
    "\n",
    "except Exception as e:\n",
    "    raise e"
   ]
  },
  {
   "cell_type": "code",
   "execution_count": null,
   "metadata": {},
   "outputs": [],
   "source": []
  }
 ],
 "metadata": {
  "kernelspec": {
   "display_name": "kidney_env",
   "language": "python",
   "name": "python3"
  },
  "language_info": {
   "codemirror_mode": {
    "name": "ipython",
    "version": 3
   },
   "file_extension": ".py",
   "mimetype": "text/x-python",
   "name": "python",
   "nbconvert_exporter": "python",
   "pygments_lexer": "ipython3",
   "version": "3.11.4"
  }
 },
 "nbformat": 4,
 "nbformat_minor": 2
}
